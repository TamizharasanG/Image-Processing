{
  "cells": [
    {
      "cell_type": "markdown",
      "metadata": {
        "id": "view-in-github",
        "colab_type": "text"
      },
      "source": [
        "<a href=\"https://colab.research.google.com/github/TamizharasanG/Image-Processing/blob/main/OCR.ipynb\" target=\"_parent\"><img src=\"https://colab.research.google.com/assets/colab-badge.svg\" alt=\"Open In Colab\"/></a>"
      ]
    },
    {
      "cell_type": "markdown",
      "source": [
        "# **Getting Statrted**"
      ],
      "metadata": {
        "id": "sXGjHIlkFqyK"
      }
    },
    {
      "cell_type": "code",
      "execution_count": null,
      "metadata": {
        "id": "0pGdSNmWPBYX"
      },
      "outputs": [],
      "source": [
        "!pip install easyocr\n",
        "!pip install geopy"
      ]
    },
    {
      "cell_type": "code",
      "execution_count": null,
      "metadata": {
        "id": "eop2GjhQQ8rK"
      },
      "outputs": [],
      "source": [
        "import easyocr\n",
        "import re"
      ]
    },
    {
      "cell_type": "code",
      "execution_count": null,
      "metadata": {
        "id": "JvAHwwf4RtIj"
      },
      "outputs": [],
      "source": [
        "reader = easyocr.Reader([\"en\", \"fr\"])"
      ]
    },
    {
      "cell_type": "code",
      "execution_count": null,
      "metadata": {
        "id": "aUvPTF8DR0wY"
      },
      "outputs": [],
      "source": [
        "result_1 = reader.readtext(\"/content/1.png\")\n",
        "result_2 = reader.readtext(\"/content/2.png\")\n",
        "result_3 = reader.readtext(\"/content/3.png\")\n",
        "result_4 = reader.readtext(\"/content/4.png\")\n",
        "result_5 = reader.readtext(\"/content/5.png\")"
      ]
    },
    {
      "cell_type": "code",
      "execution_count": null,
      "metadata": {
        "id": "glW7vbSZDXsE"
      },
      "outputs": [],
      "source": [
        "ans_1 = \"\"\n",
        "for i in result_1:\n",
        "  ans_1 += i[1]+\" \"\n",
        "\n",
        "ans_2 = \"\"\n",
        "for i in result_2:\n",
        "  ans_2 += i[1]+\" \"\n",
        "\n",
        "ans_3 = \"\"\n",
        "for i in result_3:\n",
        "  ans_3 += i[1]+\" \"\n",
        "\n",
        "ans_4 = \"\"\n",
        "for i in result_4:\n",
        "  ans_4 += i[1]+\" \"\n",
        "\n",
        "ans_5 = \"\"\n",
        "for i in result_5:\n",
        "  ans_5 += i[1]+\" \"\n"
      ]
    },
    {
      "cell_type": "code",
      "execution_count": null,
      "metadata": {
        "id": "YicN-LpPOSqS"
      },
      "outputs": [],
      "source": [
        "ans_1 = ans_1.replace(\";\", \",\")\n",
        "ans_2 = ans_2.replace(\";\", \",\")\n",
        "ans_3 = ans_3.replace(\";\", \",\")\n",
        "ans_4 = ans_4.replace(\";\", \",\")\n",
        "ans_5 = ans_5.replace(\";\", \",\")"
      ]
    },
    {
      "cell_type": "code",
      "execution_count": null,
      "metadata": {
        "id": "VS_6dirACHxn"
      },
      "outputs": [],
      "source": [
        "ans_1_list = ans_1.split(\" \")\n",
        "ans_2_list = ans_2.split(\" \")\n",
        "ans_3_list = ans_3.split(\" \")\n",
        "ans_4_list = ans_4.split(\" \")\n",
        "ans_5_list = ans_5.split(\" \")"
      ]
    },
    {
      "cell_type": "markdown",
      "metadata": {
        "id": "-7Wz0_luHiMR"
      },
      "source": [
        "\n",
        "\n",
        "\n",
        "\n",
        "# **Photo 1**"
      ]
    },
    {
      "cell_type": "markdown",
      "metadata": {
        "id": "Qgsabd2o0f9G"
      },
      "source": [
        "**Number**"
      ]
    },
    {
      "cell_type": "code",
      "execution_count": null,
      "metadata": {
        "id": "EAXj73Eis9q7"
      },
      "outputs": [],
      "source": [
        "pattern_number = \"\\+\\d{2}-\\d{3}-\\d{4}|\\d{10}|\\+\\d{3}-\\d{3}-\\d{4}|\\d{3}-\\d{3}-\\d{4}\"\n",
        "contact_number = re.findall(pattern_number, ans_1)\n",
        "contact_number"
      ]
    },
    {
      "cell_type": "markdown",
      "metadata": {
        "id": "W_y7Unhd0iaC"
      },
      "source": [
        "**Mail id**"
      ]
    },
    {
      "cell_type": "code",
      "execution_count": null,
      "metadata": {
        "id": "S8X8MXMI0li3"
      },
      "outputs": [],
      "source": [
        "mail_pattern = r\"\\b[A-Za-z0-9._%+-]+@[A-Za-z0-9.-]+\\.[A-Z|a-z]{2,}\\b|\\b[A-Za-z0-9._%+-]+@[A-Za-z0-9.-]+ [A-Z|a-z]{2,}\\b\"\n",
        "mail_id = re.findall(mail_pattern, ans_1, re.IGNORECASE)\n",
        "mail_id"
      ]
    },
    {
      "cell_type": "markdown",
      "metadata": {
        "id": "OSw8H96a00gM"
      },
      "source": [
        "**Website**"
      ]
    },
    {
      "cell_type": "code",
      "execution_count": null,
      "metadata": {
        "id": "2fpG9NBe03QG"
      },
      "outputs": [],
      "source": [
        "website_pattern =  \"www\\.[^ ]+|www [^ ]+|www\\.[^ ]com|www [^ ]+ [^ ]+|www\\.[^ ]+ [^ ]+\"\n",
        "website = re.findall(website_pattern, ans_1,re.IGNORECASE)[0].split()\n",
        "website"
      ]
    },
    {
      "cell_type": "markdown",
      "metadata": {
        "id": "wh2Qv10dSWb_"
      },
      "source": [
        "**Website_cleaned**"
      ]
    },
    {
      "cell_type": "code",
      "execution_count": null,
      "metadata": {
        "id": "v9w4LXpYSxy_"
      },
      "outputs": [],
      "source": [
        "if len(website) == 1:\n",
        "  web = website\n",
        "  web = web.replace(web[:3], web[:3].lower())\n",
        "  web = web.replace(web[:3], web[:3].lower())\n",
        "elif len(website) > 1:\n",
        "  web = \".\".join(i for i in website)\n",
        "  web = web.replace(web[:3], web[:3].lower())\n",
        "  web = web.replace(web[:3], web[:3].lower())\n",
        "  \n",
        "web"
      ]
    },
    {
      "cell_type": "markdown",
      "metadata": {
        "id": "ZKAcTQCm1IV7"
      },
      "source": [
        "**Pin**\n",
        "\n",
        "---\n",
        "\n",
        "Since Pincode and Contact number overlaps in a situation removing contact  number id best before going to pincode extraction"
      ]
    },
    {
      "cell_type": "code",
      "execution_count": null,
      "metadata": {
        "id": "fADp6LYul0-4"
      },
      "outputs": [],
      "source": [
        "info_found = []\n",
        "for i in [contact_number, mail_id, website]:\n",
        "  for j in i:\n",
        "    info_found.append(j)\n",
        "\n",
        "info_found"
      ]
    },
    {
      "cell_type": "code",
      "execution_count": null,
      "metadata": {
        "id": "fKKTpH9gl7dg"
      },
      "outputs": [],
      "source": [
        "#Finding address line \n",
        "new_list = []\n",
        "for i in ans_1_list:\n",
        "  if i in info_found:\n",
        "    continue\n",
        "  else:\n",
        "    new_list.append(i)\n",
        "\n",
        "new_str = \" \".join([i for i in new_list]).replace(\";\", \",\")\n",
        "new_str"
      ]
    },
    {
      "cell_type": "code",
      "execution_count": null,
      "metadata": {
        "id": "nXB7bn_Jj7hI"
      },
      "outputs": [],
      "source": [
        "pin_pattern = \"\\d{6}|\\d{6} \"\n",
        "pin = re.findall(pin_pattern,new_str)\n",
        "pin = [pin[0].strip()]\n",
        "pin"
      ]
    },
    {
      "cell_type": "markdown",
      "metadata": {
        "id": "jnOjWkMAyyfn"
      },
      "source": [
        "**Finding Address Line**"
      ]
    },
    {
      "cell_type": "markdown",
      "metadata": {
        "id": "2_4lcmynhGlc"
      },
      "source": [
        "**2 - Pattern matching for address line**"
      ]
    },
    {
      "cell_type": "code",
      "execution_count": null,
      "metadata": {
        "id": "A68hSZX3s958"
      },
      "outputs": [],
      "source": [
        "address_pattern = f\"(\\d+ .*?{pin[0]})\"\n",
        "address_list1 = re.findall(address_pattern, new_str)[0].split()\n",
        "\" \".join([i for i in address_list1])"
      ]
    },
    {
      "cell_type": "markdown",
      "metadata": {
        "id": "5Q440Q9PXbxM"
      },
      "source": [
        "**State Name**"
      ]
    },
    {
      "cell_type": "code",
      "execution_count": null,
      "metadata": {
        "id": "MFIA_qAJ6PIf"
      },
      "outputs": [],
      "source": [
        "state_name = address_list1.pop(-2)\n",
        "state_name"
      ]
    },
    {
      "cell_type": "markdown",
      "metadata": {
        "id": "K7bxO1MqXfpJ"
      },
      "source": [
        "**City Name**"
      ]
    },
    {
      "cell_type": "code",
      "execution_count": null,
      "metadata": {
        "id": "uXwqzpMcQnJn"
      },
      "outputs": [],
      "source": [
        "city_name = \"\"\n",
        "for i in address_list1[::-1]:\n",
        "  if i.isalpha and i.endswith(\",\"):\n",
        "    city_name += i.strip(\",\")\n",
        "    break\n",
        "city_name"
      ]
    },
    {
      "cell_type": "markdown",
      "metadata": {
        "id": "zCUHaCDQXjI-"
      },
      "source": [
        "**Area Name**"
      ]
    },
    {
      "cell_type": "code",
      "execution_count": null,
      "metadata": {
        "id": "gnj90b6AgUYJ"
      },
      "outputs": [],
      "source": [
        "address_list2 = \" \".join([i for i in address_list1]).split(\",\")\n",
        "address_lst = []\n",
        "for i in address_list2:\n",
        "  if len(i) > 1:\n",
        "    address_lst.append(i)\n",
        "  else:\n",
        "    continue\n",
        "area = address_lst[0]\n",
        "print(area)\n"
      ]
    },
    {
      "cell_type": "code",
      "execution_count": null,
      "metadata": {
        "id": "QMwsPQ9AwvaW"
      },
      "outputs": [],
      "source": [
        "city_info = []\n",
        "for i in address_list1:\n",
        "  if i.startswith(city_name.strip()):\n",
        "    city_info.append(i)\n",
        "  else:\n",
        "    continue\n",
        "\n",
        "city_info\n"
      ]
    },
    {
      "cell_type": "markdown",
      "metadata": {
        "id": "NOnrCZ6djnND"
      },
      "source": [
        "**Name , designation**"
      ]
    },
    {
      "cell_type": "code",
      "execution_count": null,
      "metadata": {
        "id": "9reX6PTtjrZw"
      },
      "outputs": [],
      "source": [
        "name = result_1[0][1]\n",
        "designation = result_1[1][1]\n",
        "print(name)\n",
        "designation\n"
      ]
    },
    {
      "cell_type": "markdown",
      "metadata": {
        "id": "PGE8m2-ftQts"
      },
      "source": [
        "**Consolidating Informations**"
      ]
    },
    {
      "cell_type": "code",
      "execution_count": null,
      "metadata": {
        "id": "W-ayI2LQtUob"
      },
      "outputs": [],
      "source": [
        "#ans_11_list = ans_1_list.cpoy()\n",
        "extracted_info = [[name], [designation], area.split(), city_info, [state_name], pin, website, mail_id, contact_number]\n",
        "processed_info = []\n",
        "for i in extracted_info:\n",
        "  for j in i:\n",
        "    processed_info.append(j)\n",
        "\n",
        "#processed_info\n",
        "final_info_1 = \" \".join([i for i in processed_info])\n",
        "final_info_1"
      ]
    },
    {
      "cell_type": "code",
      "execution_count": null,
      "metadata": {
        "id": "O5bXZaNxj3s9"
      },
      "outputs": [],
      "source": [
        "organization = []\n",
        "for i in ans_1_list:\n",
        "  if i in final_info_1.split():\n",
        "    continue\n",
        "  else:\n",
        "    organization.append(i)\n",
        "organization"
      ]
    },
    {
      "cell_type": "code",
      "execution_count": null,
      "metadata": {
        "id": "5yTEY06dxKea"
      },
      "outputs": [],
      "source": [
        "filtered_org = []\n",
        "for i in organization:\n",
        "  if i.isalpha():\n",
        "    filtered_org.append(i)\n",
        "\n",
        "filtered_org"
      ]
    },
    {
      "cell_type": "code",
      "execution_count": null,
      "metadata": {
        "id": "nJabQ26SRa1u"
      },
      "outputs": [],
      "source": [
        "organization_name = \" \".join(i for i in filtered_org)\n",
        "organization_name"
      ]
    },
    {
      "cell_type": "markdown",
      "metadata": {
        "id": "JP6DXXzRQ1Km"
      },
      "source": [
        "**Final Out**"
      ]
    },
    {
      "cell_type": "code",
      "execution_count": null,
      "metadata": {
        "id": "r5yA50egQ4Ol"
      },
      "outputs": [],
      "source": [
        "print(\n",
        "    f'''\n",
        "    Name : {name}\n",
        "    Designation : {designation}\n",
        "    Phone Number : {\" , \".join(i for i in contact_number)}\n",
        "    Company Name : {organization_name.title()}\n",
        "    Area : {area}\n",
        "    City : {city_name}\n",
        "    State : {state_name}\n",
        "    Pincode : {pin[0]}\n",
        "    Mail Id : {mail_id[0]}\n",
        "    Website : {web}\n",
        "    '''\n",
        ")"
      ]
    },
    {
      "cell_type": "markdown",
      "metadata": {
        "id": "CvB2PYoRNST-"
      },
      "source": [
        "# **Photo 2**"
      ]
    },
    {
      "cell_type": "markdown",
      "metadata": {
        "id": "myQiZJoLNvHc"
      },
      "source": [
        "**Number**"
      ]
    },
    {
      "cell_type": "code",
      "execution_count": null,
      "metadata": {
        "colab": {
          "base_uri": "https://localhost:8080/"
        },
        "id": "N3KkPKY5NvHc",
        "outputId": "6e81dcdf-9497-4ac9-fd08-d03bf205ad39"
      },
      "outputs": [
        {
          "data": {
            "text/plain": [
              "['123-456-7569']"
            ]
          },
          "execution_count": 65,
          "metadata": {},
          "output_type": "execute_result"
        }
      ],
      "source": [
        "pattern_number = \"\\+\\d{2}-\\d{3}-\\d{4}|\\d{10}|\\+\\d{3}-\\d{3}-\\d{4}|\\d{3}-\\d{3}-\\d{4}|\\+\\d{12}|d{5} d{5}\"\n",
        "contact_number = re.findall(pattern_number, ans_2)\n",
        "contact_number"
      ]
    },
    {
      "cell_type": "markdown",
      "metadata": {
        "id": "ndKKEH-eNvHc"
      },
      "source": [
        "**Mail id**"
      ]
    },
    {
      "cell_type": "code",
      "execution_count": null,
      "metadata": {
        "colab": {
          "base_uri": "https://localhost:8080/"
        },
        "id": "OwlbUNxZNvHc",
        "outputId": "23f23e99-b905-470f-aba4-8efa40fb2e29"
      },
      "outputs": [
        {
          "data": {
            "text/plain": [
              "['hello@global.com']"
            ]
          },
          "execution_count": 66,
          "metadata": {},
          "output_type": "execute_result"
        }
      ],
      "source": [
        "mail_pattern = r\"\\b[A-Za-z0-9._%+-]+@[A-Za-z0-9.-]+\\.[A-Z|a-z]{2,}\\b|\\b[A-Za-z0-9._%+-]+@[A-Za-z0-9.-]+ [A-Z|a-z]{2,}\\b\"\n",
        "mail_id = re.findall(mail_pattern, ans_2, re.IGNORECASE)\n",
        "mail_id"
      ]
    },
    {
      "cell_type": "markdown",
      "metadata": {
        "id": "Irz3h8xFNvHd"
      },
      "source": [
        "**Website**"
      ]
    },
    {
      "cell_type": "code",
      "execution_count": null,
      "metadata": {
        "colab": {
          "base_uri": "https://localhost:8080/"
        },
        "id": "aYrP1ydrNvHd",
        "outputId": "1f1c046a-84f5-453a-d553-0a3b5a816aa2"
      },
      "outputs": [
        {
          "data": {
            "text/plain": [
              "['WWW', 'global.com']"
            ]
          },
          "execution_count": 68,
          "metadata": {},
          "output_type": "execute_result"
        }
      ],
      "source": [
        "website_pattern =  \"www\\.[^ ]+|www [^ ]+|www\\.[^ ]com|www [^ ]+ [^ ]+|www\\.[^ ]+ [^ ]+\"\n",
        "website = re.findall(website_pattern, ans_2,re.IGNORECASE)[0].split()\n",
        "website"
      ]
    },
    {
      "cell_type": "markdown",
      "metadata": {
        "id": "zYkrcPMgXzET"
      },
      "source": [
        "**Website Claened**"
      ]
    },
    {
      "cell_type": "code",
      "execution_count": null,
      "metadata": {
        "colab": {
          "base_uri": "https://localhost:8080/",
          "height": 35
        },
        "id": "DjV4oqOIX2VN",
        "outputId": "f95c094f-8e0c-4679-f02e-c0cf99d08879"
      },
      "outputs": [
        {
          "data": {
            "application/vnd.google.colaboratory.intrinsic+json": {
              "type": "string"
            },
            "text/plain": [
              "'www.global.com'"
            ]
          },
          "execution_count": 69,
          "metadata": {},
          "output_type": "execute_result"
        }
      ],
      "source": [
        "if len(website) == 1:\n",
        "  web = website\n",
        "  web = web.replace(web[:3], web[:3].lower())\n",
        "  web = web.replace(web[:3], web[:3].lower())\n",
        "elif len(website) > 1:\n",
        "  web = \".\".join(i for i in website)\n",
        "  web = web.replace(web[:3], web[:3].lower())\n",
        "  web = web.replace(web[:3], web[:3].lower())\n",
        "  \n",
        "web"
      ]
    },
    {
      "cell_type": "markdown",
      "metadata": {
        "id": "i_f2lZ6YNvHd"
      },
      "source": [
        "Pin"
      ]
    },
    {
      "cell_type": "code",
      "execution_count": null,
      "metadata": {
        "colab": {
          "base_uri": "https://localhost:8080/"
        },
        "id": "75-CDYNNNvHd",
        "outputId": "938ba3fc-87d8-40e5-abcd-3442627739bf"
      },
      "outputs": [
        {
          "data": {
            "text/plain": [
              "['600115']"
            ]
          },
          "execution_count": 70,
          "metadata": {},
          "output_type": "execute_result"
        }
      ],
      "source": [
        "pin_pattern = \"\\d{6}|\\d{6} \"\n",
        "pin = re.findall(pin_pattern,ans_2)\n",
        "pin = [pin[0].strip()]\n",
        "pin"
      ]
    },
    {
      "cell_type": "markdown",
      "metadata": {
        "id": "pPxBEqjkNvHd"
      },
      "source": [
        "Finding Address Line"
      ]
    },
    {
      "cell_type": "markdown",
      "metadata": {
        "id": "32sqNJNkNvHd"
      },
      "source": [
        "**1 - Removing all finded items in from the list**"
      ]
    },
    {
      "cell_type": "code",
      "execution_count": null,
      "metadata": {
        "colab": {
          "base_uri": "https://localhost:8080/"
        },
        "id": "-hB1CszWNvHd",
        "outputId": "ed1e0480-a14c-47fc-d17b-730011cf1bb1"
      },
      "outputs": [
        {
          "data": {
            "text/plain": [
              "['123-456-7569', 'hello@global.com', 'WWW', 'global.com']"
            ]
          },
          "execution_count": 71,
          "metadata": {},
          "output_type": "execute_result"
        }
      ],
      "source": [
        "info_found = []\n",
        "for i in [contact_number, mail_id, website]:\n",
        "  for j in i:\n",
        "    info_found.append(j)\n",
        "\n",
        "info_found"
      ]
    },
    {
      "cell_type": "code",
      "execution_count": null,
      "metadata": {
        "colab": {
          "base_uri": "https://localhost:8080/",
          "height": 35
        },
        "id": "QMbZbkqYNvHe",
        "outputId": "a0479517-b9d3-4b96-d6ac-842daeebc9f6"
      },
      "outputs": [
        {
          "data": {
            "application/vnd.google.colaboratory.intrinsic+json": {
              "type": "string"
            },
            "text/plain": [
              "'Amit kumar CEO & FOUNDER 123 global Erode, GLOBAL TamilNadu 600115 INSURANCE St., '"
            ]
          },
          "execution_count": 72,
          "metadata": {},
          "output_type": "execute_result"
        }
      ],
      "source": [
        "#Finding address line \n",
        "new_list = []\n",
        "for i in ans_2_list:\n",
        "  if i in info_found:\n",
        "    continue\n",
        "  else:\n",
        "    new_list.append(i)\n",
        "\n",
        "new_str = \" \".join([i for i in new_list]).replace(\";\", \",\")\n",
        "new_str"
      ]
    },
    {
      "cell_type": "markdown",
      "metadata": {
        "id": "tqTfBO5gNvHe"
      },
      "source": [
        "**2 - Pattern matching for address line**"
      ]
    },
    {
      "cell_type": "code",
      "execution_count": null,
      "metadata": {
        "colab": {
          "base_uri": "https://localhost:8080/",
          "height": 35
        },
        "id": "GISIbdafNvHe",
        "outputId": "d72c7000-6f8b-482f-aec3-72727da2d34f"
      },
      "outputs": [
        {
          "data": {
            "application/vnd.google.colaboratory.intrinsic+json": {
              "type": "string"
            },
            "text/plain": [
              "'123 global Erode, GLOBAL TamilNadu 600115'"
            ]
          },
          "execution_count": 73,
          "metadata": {},
          "output_type": "execute_result"
        }
      ],
      "source": [
        "address_pattern = f\"(\\d+ .*?{pin[0]})\"\n",
        "address_list1 = re.findall(address_pattern, new_str)[0].split()\n",
        "\" \".join([i for i in address_list1])"
      ]
    },
    {
      "cell_type": "markdown",
      "metadata": {
        "id": "T7iHYmuEQXru"
      },
      "source": [
        "**State Name**"
      ]
    },
    {
      "cell_type": "code",
      "execution_count": null,
      "metadata": {
        "id": "OX2O2WSTNvHe"
      },
      "outputs": [],
      "source": [
        "state_name = address_list1.pop(-2)\n",
        "state_name"
      ]
    },
    {
      "cell_type": "markdown",
      "metadata": {
        "id": "zP9I2omFQcBb"
      },
      "source": [
        "**City Name**"
      ]
    },
    {
      "cell_type": "code",
      "execution_count": null,
      "metadata": {
        "id": "l7qFpUoVPHvw"
      },
      "outputs": [],
      "source": [
        "city_name = \"\"\n",
        "for i in address_list1[::-1]:\n",
        "  if i.isalpha and i.endswith(\",\"):\n",
        "    city_name += i.strip(\",\")\n",
        "    break\n",
        "city_name"
      ]
    },
    {
      "cell_type": "code",
      "execution_count": null,
      "metadata": {
        "id": "pdQplbiiNvHe"
      },
      "outputs": [],
      "source": [
        "address_list2 = \" \".join([i for i in address_list1]).split(\",\")\n",
        "address_lst = []\n",
        "for i in address_list2:\n",
        "  if len(i) > 1:\n",
        "    address_lst.append(i)\n",
        "  else:\n",
        "    continue\n",
        "area = address_lst[0]\n",
        "print(area)\n"
      ]
    },
    {
      "cell_type": "code",
      "execution_count": null,
      "metadata": {
        "id": "dkzr8x_YNvHe"
      },
      "outputs": [],
      "source": [
        "city_info = []\n",
        "for i in address_list1:\n",
        "  if i.startswith(city_name.strip()):\n",
        "    city_info.append(i)\n",
        "  else:\n",
        "    continue\n",
        "\n",
        "city_info\n"
      ]
    },
    {
      "cell_type": "markdown",
      "metadata": {
        "id": "6WNP1R7rNvHf"
      },
      "source": [
        "**Name , designation**"
      ]
    },
    {
      "cell_type": "code",
      "execution_count": null,
      "metadata": {
        "id": "D-esf38HNvHf"
      },
      "outputs": [],
      "source": [
        "name = result_2[0][1]\n",
        "designation = result_2[1][1]\n",
        "print(name)\n",
        "designation\n"
      ]
    },
    {
      "cell_type": "markdown",
      "metadata": {
        "id": "NqIQPOHRNvHf"
      },
      "source": [
        "**Consolidating Informations**"
      ]
    },
    {
      "cell_type": "code",
      "execution_count": null,
      "metadata": {
        "id": "Y5uhM4cUNvHf"
      },
      "outputs": [],
      "source": [
        "#ans_11_list = ans_1_list.cpoy()\n",
        "extracted_info = [[name], [designation], area.split(), city_info, [state_name], pin, website, mail_id, contact_number]\n",
        "processed_info = []\n",
        "for i in extracted_info:\n",
        "  for j in i:\n",
        "    processed_info.append(j)\n",
        "\n",
        "\n",
        "#processed_info\n",
        "final_info_1 = \" \".join([i for i in processed_info])\n",
        "final_info_1"
      ]
    },
    {
      "cell_type": "code",
      "execution_count": null,
      "metadata": {
        "id": "xH4aF4ZZNvHf"
      },
      "outputs": [],
      "source": [
        "organization = []\n",
        "for i in ans_2_list:\n",
        "  if i in final_info_1.split():\n",
        "    continue\n",
        "  else:\n",
        "    organization.append(i)\n",
        "organization"
      ]
    },
    {
      "cell_type": "code",
      "execution_count": null,
      "metadata": {
        "id": "rKIp-0wXNvHg"
      },
      "outputs": [],
      "source": [
        "filtered_org = []\n",
        "for i in organization:\n",
        "  if i.isalpha() or i.isalnum():\n",
        "    filtered_org.append(i)\n",
        "\n",
        "filtered_org"
      ]
    },
    {
      "cell_type": "code",
      "execution_count": null,
      "metadata": {
        "id": "7BvlsWnrYUVo"
      },
      "outputs": [],
      "source": [
        "organization_name = \" \".join(i for i in filtered_org)\n",
        "organization_name"
      ]
    },
    {
      "cell_type": "markdown",
      "metadata": {
        "id": "XkNnBgTpYDZf"
      },
      "source": [
        "**Final Out**"
      ]
    },
    {
      "cell_type": "code",
      "execution_count": null,
      "metadata": {
        "id": "EiZSd0s6YFlf"
      },
      "outputs": [],
      "source": [
        "print(\n",
        "    f'''\n",
        "    Name : {name}\n",
        "    Designation : {designation}\n",
        "    Phone Number : {\" , \".join(i for i in contact_number)}\n",
        "    Company Name : {organization_name.title()}\n",
        "    Area : {area}\n",
        "    City : {city_name}\n",
        "    State : {state_name}\n",
        "    Pincode : {pin[0]}\n",
        "    Mail Id : {mail_id[0]}\n",
        "    Website : {web}\n",
        "    '''\n",
        ")"
      ]
    },
    {
      "cell_type": "markdown",
      "metadata": {
        "id": "qrxUKEaXG9ic"
      },
      "source": [
        "# **Photo 3**"
      ]
    },
    {
      "cell_type": "markdown",
      "metadata": {
        "id": "r_jf-z3cHEfp"
      },
      "source": [
        "**Number**"
      ]
    },
    {
      "cell_type": "code",
      "execution_count": null,
      "metadata": {
        "id": "MQFPgNUCHEfq"
      },
      "outputs": [],
      "source": [
        "pattern_number = \"\\+\\d{2}-\\d{3}-\\d{4}|\\d{10}|\\+\\d{3}-\\d{3}-\\d{4}|\\d{3}-\\d{3}-\\d{4}\"\n",
        "contact_number = re.findall(pattern_number, ans_3)\n",
        "contact_number"
      ]
    },
    {
      "cell_type": "markdown",
      "metadata": {
        "id": "flXA78_THEfr"
      },
      "source": [
        "**Mail id**"
      ]
    },
    {
      "cell_type": "code",
      "execution_count": null,
      "metadata": {
        "id": "e2rRG7PfHEfr"
      },
      "outputs": [],
      "source": [
        "mail_pattern = r\"\\b[A-Za-z0-9._%+-]+@[A-Za-z0-9.-]+\\.[A-Z|a-z]{2,}\\b|\\b[A-Za-z0-9._%+-]+@[A-Za-z0-9.-]+ [A-Z|a-z]{2,}\\b\"\n",
        "mail_id = re.findall(mail_pattern, ans_3, re.IGNORECASE)\n",
        "mail_id"
      ]
    },
    {
      "cell_type": "markdown",
      "metadata": {
        "id": "dcb_luP9HEfs"
      },
      "source": [
        "**Website**"
      ]
    },
    {
      "cell_type": "code",
      "execution_count": null,
      "metadata": {
        "id": "3JJCTeODHEfs"
      },
      "outputs": [],
      "source": [
        "website_pattern =  \"www\\.[^ ]+|www [^ ]+|www\\.[^ ]com|www [^ ]+ [^ ]+|www\\.[^ ]+ [^ ]+\"\n",
        "website = re.findall(website_pattern, ans_3,re.IGNORECASE)[0].split()\n",
        "website"
      ]
    },
    {
      "cell_type": "markdown",
      "metadata": {
        "id": "mlXAL_JgYnGR"
      },
      "source": [
        "**Website Cleaning**"
      ]
    },
    {
      "cell_type": "code",
      "execution_count": null,
      "metadata": {
        "id": "u1pSSSlhYr4t"
      },
      "outputs": [],
      "source": [
        "if len(website) == 1:\n",
        "  web = website\n",
        "  web = web.replace(web[:3], web[:3].lower())\n",
        "  web = web.replace(web[:3], web[:3].lower())\n",
        "elif len(website) > 1:\n",
        "  web = \".\".join(i for i in website)\n",
        "  web = web.replace(web[:3], web[:3].lower())\n",
        "  web = web.replace(web[:3], web[:3].lower())\n",
        "  \n",
        "web"
      ]
    },
    {
      "cell_type": "markdown",
      "metadata": {
        "id": "JmTUOedtHEfs"
      },
      "source": [
        "Pin"
      ]
    },
    {
      "cell_type": "code",
      "execution_count": null,
      "metadata": {
        "id": "m9MLRHV_HEfs"
      },
      "outputs": [],
      "source": [
        "pin_pattern = \"\\d{6}|\\d{6} \"\n",
        "pin = re.findall(pin_pattern,ans_3)\n",
        "pin = [pin[0].strip()]\n",
        "pin"
      ]
    },
    {
      "cell_type": "markdown",
      "metadata": {
        "id": "x5ziVxzkHEfs"
      },
      "source": [
        "Finding Address Line"
      ]
    },
    {
      "cell_type": "markdown",
      "metadata": {
        "id": "tX7qlgGfHEft"
      },
      "source": [
        "**1 - Removing all finded items in from the list**"
      ]
    },
    {
      "cell_type": "code",
      "execution_count": null,
      "metadata": {
        "id": "q6pCkOQtHEft"
      },
      "outputs": [],
      "source": [
        "info_found = []\n",
        "for i in [contact_number, mail_id, website]:\n",
        "  for j in i:\n",
        "    info_found.append(j)\n",
        "\n",
        "info_found"
      ]
    },
    {
      "cell_type": "code",
      "execution_count": null,
      "metadata": {
        "id": "M4SJ5WyTHEft"
      },
      "outputs": [],
      "source": [
        "#Finding address line \n",
        "new_list = []\n",
        "for i in ans_3_list:\n",
        "  if i in info_found:\n",
        "    continue\n",
        "  else:\n",
        "    new_list.append(i)\n",
        "\n",
        "new_str = \" \".join([i for i in new_list]).replace(\";\", \",\")\n",
        "new_str"
      ]
    },
    {
      "cell_type": "markdown",
      "metadata": {
        "id": "J-yPzHLhHEft"
      },
      "source": [
        "**2 - Pattern matching for address line**"
      ]
    },
    {
      "cell_type": "code",
      "execution_count": null,
      "metadata": {
        "id": "w8Rh3MMLHEfy"
      },
      "outputs": [],
      "source": [
        "address_pattern = f\"(\\d+ .*?{pin[0]})\"\n",
        "address_list1 = re.findall(address_pattern, new_str)[0].split()\n",
        "\" \".join([i for i in address_list1])"
      ]
    },
    {
      "cell_type": "code",
      "execution_count": null,
      "metadata": {
        "id": "nWsbIWeZHEfz"
      },
      "outputs": [],
      "source": [
        "state_name = address_list1.pop(-2)\n",
        "state_name"
      ]
    },
    {
      "cell_type": "code",
      "execution_count": null,
      "metadata": {
        "id": "fghR9xYGY_J4"
      },
      "outputs": [],
      "source": [
        "city_name = \"\"\n",
        "for i in address_list1[::-1]:\n",
        "  if i.isalpha and i.endswith(\",\"):\n",
        "    city_name += i.strip(\",\")\n",
        "    break\n",
        "city_name"
      ]
    },
    {
      "cell_type": "code",
      "execution_count": null,
      "metadata": {
        "id": "7S7hTnDoHEfz"
      },
      "outputs": [],
      "source": [
        "address_list2 = \" \".join([i for i in address_list1]).split(\",\")\n",
        "address_lst = []\n",
        "for i in address_list2:\n",
        "  if len(i) > 1:\n",
        "    address_lst.append(i)\n",
        "  else:\n",
        "    continue\n",
        "area = address_lst[0]\n",
        "print(area)"
      ]
    },
    {
      "cell_type": "code",
      "execution_count": null,
      "metadata": {
        "id": "V6QHo2BwHEf0"
      },
      "outputs": [],
      "source": [
        "city_info = []\n",
        "for i in address_list1:\n",
        "  if i.startswith(city_name.strip()):\n",
        "    city_info.append(i)\n",
        "  else:\n",
        "    continue\n",
        "\n",
        "city_info\n"
      ]
    },
    {
      "cell_type": "markdown",
      "metadata": {
        "id": "eWpLu57uHEf0"
      },
      "source": [
        "**Name , designation**"
      ]
    },
    {
      "cell_type": "code",
      "execution_count": null,
      "metadata": {
        "id": "UQgictw8HEf0"
      },
      "outputs": [],
      "source": [
        "name = result_3[0][1]\n",
        "designation = result_3[1][1]\n",
        "print(name)\n",
        "designation\n"
      ]
    },
    {
      "cell_type": "markdown",
      "metadata": {
        "id": "r-omm12RHEf1"
      },
      "source": [
        "**Consolidating Informations**"
      ]
    },
    {
      "cell_type": "code",
      "execution_count": null,
      "metadata": {
        "id": "xNC1JIKSHEf1"
      },
      "outputs": [],
      "source": [
        "#ans_11_list = ans_1_list.cpoy()\n",
        "extracted_info = [[name], [designation], area.split(), city_info, [state_name], pin, website, mail_id, contact_number]\n",
        "processed_info = []\n",
        "for i in extracted_info:\n",
        "  for j in i:\n",
        "    processed_info.append(j)\n",
        "\n",
        "\n",
        "#processed_info\n",
        "final_info_1 = \" \".join([i for i in processed_info])\n",
        "final_info_1"
      ]
    },
    {
      "cell_type": "code",
      "execution_count": null,
      "metadata": {
        "id": "A0KO-9GTHEf1"
      },
      "outputs": [],
      "source": [
        "organization = []\n",
        "for i in ans_3_list:\n",
        "  if i in final_info_1.split():\n",
        "    continue\n",
        "  else:\n",
        "    organization.append(i)\n",
        "organization"
      ]
    },
    {
      "cell_type": "code",
      "execution_count": null,
      "metadata": {
        "id": "32O5h9VeHEf1"
      },
      "outputs": [],
      "source": [
        "filtered_org = []\n",
        "for i in organization:\n",
        "  if i.isalpha():\n",
        "    filtered_org.append(i)\n",
        "\n",
        "filtered_org"
      ]
    },
    {
      "cell_type": "code",
      "execution_count": null,
      "metadata": {
        "id": "2ym0SxgDZSnT"
      },
      "outputs": [],
      "source": [
        "organization_name = \" \".join(i for i in filtered_org)\n",
        "organization_name"
      ]
    },
    {
      "cell_type": "code",
      "execution_count": null,
      "metadata": {
        "id": "eovmXanQZQGT"
      },
      "outputs": [],
      "source": [
        "print(\n",
        "    f'''\n",
        "    Name : {name}\n",
        "    Designation : {designation}\n",
        "    Phone Number : {\" , \".join(i for i in contact_number)}\n",
        "    Company Name : {organization_name.title()}\n",
        "    Area : {area}\n",
        "    City : {city_name}\n",
        "    State : {state_name}\n",
        "    Pincode : {pin[0]}\n",
        "    Mail Id : {mail_id[0]}\n",
        "    Website : {web}\n",
        "    '''\n",
        ")"
      ]
    },
    {
      "cell_type": "markdown",
      "metadata": {
        "id": "THFPmA4yJjdh"
      },
      "source": [
        "# **Photo 4**"
      ]
    },
    {
      "cell_type": "markdown",
      "metadata": {
        "id": "t1XzL6BbJjdh"
      },
      "source": [
        "**Number**"
      ]
    },
    {
      "cell_type": "code",
      "execution_count": null,
      "metadata": {
        "colab": {
          "base_uri": "https://localhost:8080/"
        },
        "id": "2W4VqEuXJjdh",
        "outputId": "0d758d8b-5060-4d91-9f87-bfb4ae243e45"
      },
      "outputs": [
        {
          "data": {
            "text/plain": [
              "['+91-456-1234']"
            ]
          },
          "execution_count": 74,
          "metadata": {},
          "output_type": "execute_result"
        }
      ],
      "source": [
        "pattern_number = \"\\+\\d{2}-\\d{3}-\\d{4}|\\d{10}|\\+\\d{3}-\\d{3}-\\d{4}|\\d{3}-\\d{3}-\\d{4}|\\+\\d{12}|d{5} d{5}\"\n",
        "contact_number = re.findall(pattern_number, ans_4)\n",
        "contact_number"
      ]
    },
    {
      "cell_type": "markdown",
      "metadata": {
        "id": "_eToXDlcJjdh"
      },
      "source": [
        "**Mail id**"
      ]
    },
    {
      "cell_type": "code",
      "execution_count": null,
      "metadata": {
        "colab": {
          "base_uri": "https://localhost:8080/"
        },
        "id": "AQd71CkVJjdh",
        "outputId": "14db534d-423b-4cf6-aa59-7356b477cb47"
      },
      "outputs": [
        {
          "data": {
            "text/plain": [
              "['hello@CHRISTMAS.com']"
            ]
          },
          "execution_count": 75,
          "metadata": {},
          "output_type": "execute_result"
        }
      ],
      "source": [
        "mail_pattern = r\"\\b[A-Za-z0-9._%+-]+@[A-Za-z0-9.-]+\\.[A-Z|a-z]{2,}\\b|\\b[A-Za-z0-9._%+-]+@[A-Za-z0-9.-]+ [A-Z|a-z]{2,}\\b\"\n",
        "mail_id = re.findall(mail_pattern, ans_4, re.IGNORECASE)\n",
        "mail_id"
      ]
    },
    {
      "cell_type": "markdown",
      "metadata": {
        "id": "qf5DL2YSJjdi"
      },
      "source": [
        "**Website**"
      ]
    },
    {
      "cell_type": "code",
      "execution_count": null,
      "metadata": {
        "colab": {
          "base_uri": "https://localhost:8080/"
        },
        "id": "WLhwAV_rJjdi",
        "outputId": "130f665f-c1e0-4070-8b9a-a66572c45b07"
      },
      "outputs": [
        {
          "data": {
            "text/plain": [
              "['WWW.CHRISTMAS.com']"
            ]
          },
          "execution_count": 76,
          "metadata": {},
          "output_type": "execute_result"
        }
      ],
      "source": [
        "website_pattern =  \"www\\.[^ ]+|www [^ ]+|www\\.[^ ]com|www [^ ]+ [^ ]+|www\\.[^ ]+ [^ ]+\"\n",
        "website = re.findall(website_pattern, ans_4,re.IGNORECASE)[0].split()\n",
        "website"
      ]
    },
    {
      "cell_type": "markdown",
      "metadata": {
        "id": "LPatL56JZeAP"
      },
      "source": [
        "**Webste cleaning**"
      ]
    },
    {
      "cell_type": "code",
      "execution_count": null,
      "metadata": {
        "colab": {
          "base_uri": "https://localhost:8080/",
          "height": 35
        },
        "id": "jYHFJ0WhZhEI",
        "outputId": "d390ce54-a9f6-49df-c016-9fa7000c04f1"
      },
      "outputs": [
        {
          "data": {
            "application/vnd.google.colaboratory.intrinsic+json": {
              "type": "string"
            },
            "text/plain": [
              "'www.CHRISTMAS.com'"
            ]
          },
          "execution_count": 77,
          "metadata": {},
          "output_type": "execute_result"
        }
      ],
      "source": [
        "if len(website) == 1:\n",
        "  web = website[0]\n",
        "  web = web.replace(web[:3], web[:3].lower())\n",
        "  web = web.replace(web[:3], web[:3].lower())\n",
        "elif len(website) > 1:\n",
        "  web = \".\".join(i for i in website)\n",
        "  web = web.replace(web[:3], web[:3].lower())\n",
        "  web = web.replace(web[:3], web[:3].lower())\n",
        "  \n",
        "web"
      ]
    },
    {
      "cell_type": "markdown",
      "metadata": {
        "id": "2oBwBwPGJjdi"
      },
      "source": [
        "Pin"
      ]
    },
    {
      "cell_type": "code",
      "execution_count": null,
      "metadata": {
        "colab": {
          "base_uri": "https://localhost:8080/"
        },
        "id": "pYiuzTVCJjdi",
        "outputId": "f4d05125-16a5-4092-ed8f-61dee9a5281f"
      },
      "outputs": [
        {
          "data": {
            "text/plain": [
              "['600001']"
            ]
          },
          "execution_count": 78,
          "metadata": {},
          "output_type": "execute_result"
        }
      ],
      "source": [
        "pin_pattern = \"\\d{6}|\\d{6} \"\n",
        "pin = re.findall(pin_pattern,ans_4)\n",
        "pin = [pin[0].strip()]\n",
        "pin"
      ]
    },
    {
      "cell_type": "markdown",
      "metadata": {
        "id": "MEI2U2C4Jjdi"
      },
      "source": [
        "Finding Address Line"
      ]
    },
    {
      "cell_type": "markdown",
      "metadata": {
        "id": "y7g5yBDLJjdi"
      },
      "source": [
        "**1 - Removing all finded items in from the list**"
      ]
    },
    {
      "cell_type": "code",
      "execution_count": null,
      "metadata": {
        "colab": {
          "base_uri": "https://localhost:8080/"
        },
        "id": "UZokPSDzJjdi",
        "outputId": "bd129e78-3539-4280-9830-bbe2872b9193"
      },
      "outputs": [
        {
          "data": {
            "text/plain": [
              "['+91-456-1234', 'hello@CHRISTMAS.com', 'WWW.CHRISTMAS.com']"
            ]
          },
          "execution_count": 79,
          "metadata": {},
          "output_type": "execute_result"
        }
      ],
      "source": [
        "info_found = []\n",
        "for i in [contact_number, mail_id, website]:\n",
        "  for j in i:\n",
        "    info_found.append(j)\n",
        "\n",
        "info_found"
      ]
    },
    {
      "cell_type": "code",
      "execution_count": null,
      "metadata": {
        "colab": {
          "base_uri": "https://localhost:8080/",
          "height": 35
        },
        "id": "xMcqwqbuJjdi",
        "outputId": "187bfff9-5111-4131-cab3-852c98c6878a"
      },
      "outputs": [
        {
          "data": {
            "application/vnd.google.colaboratory.intrinsic+json": {
              "type": "string"
            },
            "text/plain": [
              "\"REVANTH Marketing Executive 123 ABC St , HYDRABAD, TamilNadu, 600001 Family Restaurant' \""
            ]
          },
          "execution_count": 80,
          "metadata": {},
          "output_type": "execute_result"
        }
      ],
      "source": [
        "#Finding address line \n",
        "new_list = []\n",
        "for i in ans_4_list:\n",
        "  if i in info_found:\n",
        "    continue\n",
        "  else:\n",
        "    new_list.append(i)\n",
        "\n",
        "new_str = \" \".join([i for i in new_list]).replace(\";\", \",\")\n",
        "new_str"
      ]
    },
    {
      "cell_type": "markdown",
      "metadata": {
        "id": "lXIw8XCdJjdi"
      },
      "source": [
        "**2 - Pattern matching for address line**"
      ]
    },
    {
      "cell_type": "code",
      "execution_count": null,
      "metadata": {
        "colab": {
          "base_uri": "https://localhost:8080/",
          "height": 35
        },
        "id": "HBZW0dvkJjdi",
        "outputId": "c802b315-e65a-4a85-c99c-86eac56a2bd1"
      },
      "outputs": [
        {
          "data": {
            "application/vnd.google.colaboratory.intrinsic+json": {
              "type": "string"
            },
            "text/plain": [
              "'123 ABC St , HYDRABAD, TamilNadu, 600001'"
            ]
          },
          "execution_count": 81,
          "metadata": {},
          "output_type": "execute_result"
        }
      ],
      "source": [
        "address_pattern = f\"(\\d+ .*?{pin[0]})\"\n",
        "address_list1 = re.findall(address_pattern, new_str)[0].split()\n",
        "\" \".join([i for i in address_list1])"
      ]
    },
    {
      "cell_type": "code",
      "execution_count": null,
      "metadata": {
        "colab": {
          "base_uri": "https://localhost:8080/",
          "height": 35
        },
        "id": "jPIOE9WyJjdi",
        "outputId": "137294d2-e027-4465-e2a4-2d4094d589f5"
      },
      "outputs": [
        {
          "data": {
            "application/vnd.google.colaboratory.intrinsic+json": {
              "type": "string"
            },
            "text/plain": [
              "'TamilNadu,'"
            ]
          },
          "execution_count": 82,
          "metadata": {},
          "output_type": "execute_result"
        }
      ],
      "source": [
        "state_name = address_list1.pop(-2)\n",
        "state_name"
      ]
    },
    {
      "cell_type": "code",
      "execution_count": null,
      "metadata": {
        "colab": {
          "base_uri": "https://localhost:8080/",
          "height": 35
        },
        "id": "p32PVi_DZtXo",
        "outputId": "bfbb5f2a-331b-4867-da9a-012b914f098d"
      },
      "outputs": [
        {
          "data": {
            "application/vnd.google.colaboratory.intrinsic+json": {
              "type": "string"
            },
            "text/plain": [
              "'HYDRABAD'"
            ]
          },
          "execution_count": 83,
          "metadata": {},
          "output_type": "execute_result"
        }
      ],
      "source": [
        "city_name = \"\"\n",
        "for i in address_list1[::-1]:\n",
        "  if i.isalpha and i.endswith(\",\"):\n",
        "    city_name += i.strip(\",\")\n",
        "    break\n",
        "city_name"
      ]
    },
    {
      "cell_type": "code",
      "execution_count": null,
      "metadata": {
        "colab": {
          "base_uri": "https://localhost:8080/"
        },
        "id": "ntHuivk2Jjdi",
        "outputId": "0398f1b5-d99d-4bf8-ab7e-0d5fd2435505"
      },
      "outputs": [
        {
          "name": "stdout",
          "output_type": "stream",
          "text": [
            "123 ABC St \n"
          ]
        }
      ],
      "source": [
        "address_list2 = \" \".join([i for i in address_list1]).split(\",\")\n",
        "address_lst = []\n",
        "for i in address_list2:\n",
        "  if len(i) > 1:\n",
        "    address_lst.append(i)\n",
        "  else:\n",
        "    continue\n",
        "area = address_lst[0]\n",
        "print(area)"
      ]
    },
    {
      "cell_type": "code",
      "execution_count": null,
      "metadata": {
        "colab": {
          "base_uri": "https://localhost:8080/"
        },
        "id": "zbu5PVyFJjdj",
        "outputId": "466f7ee7-ee8e-4b76-c311-17513e1c9b9b"
      },
      "outputs": [
        {
          "data": {
            "text/plain": [
              "['HYDRABAD,']"
            ]
          },
          "execution_count": 85,
          "metadata": {},
          "output_type": "execute_result"
        }
      ],
      "source": [
        "city_info = []\n",
        "for i in address_list1:\n",
        "  if i.startswith(city_name.strip()):\n",
        "    city_info.append(i)\n",
        "  else:\n",
        "    continue\n",
        "\n",
        "city_info\n"
      ]
    },
    {
      "cell_type": "markdown",
      "metadata": {
        "id": "7sA4e3bmJjdj"
      },
      "source": [
        "**Name , designation**"
      ]
    },
    {
      "cell_type": "code",
      "execution_count": null,
      "metadata": {
        "colab": {
          "base_uri": "https://localhost:8080/",
          "height": 52
        },
        "id": "ZGHYMj08Jjdj",
        "outputId": "dd9943c6-884f-4c04-c1ae-cc1a102ba8fe"
      },
      "outputs": [
        {
          "name": "stdout",
          "output_type": "stream",
          "text": [
            "REVANTH\n"
          ]
        },
        {
          "data": {
            "application/vnd.google.colaboratory.intrinsic+json": {
              "type": "string"
            },
            "text/plain": [
              "'Marketing Executive'"
            ]
          },
          "execution_count": 86,
          "metadata": {},
          "output_type": "execute_result"
        }
      ],
      "source": [
        "name = result_4[0][1]\n",
        "designation = result_4[1][1]\n",
        "print(name)\n",
        "designation\n"
      ]
    },
    {
      "cell_type": "markdown",
      "metadata": {
        "id": "RFkrwwcwJjdj"
      },
      "source": [
        "**Consolidating Informations**"
      ]
    },
    {
      "cell_type": "code",
      "execution_count": null,
      "metadata": {
        "colab": {
          "base_uri": "https://localhost:8080/",
          "height": 35
        },
        "id": "P7XBSo6pJjdj",
        "outputId": "48b78847-7446-42d0-f9b4-735063bb3a1d"
      },
      "outputs": [
        {
          "data": {
            "application/vnd.google.colaboratory.intrinsic+json": {
              "type": "string"
            },
            "text/plain": [
              "'REVANTH Marketing Executive 123 ABC St HYDRABAD, TamilNadu, 600001 WWW.CHRISTMAS.com hello@CHRISTMAS.com +91-456-1234'"
            ]
          },
          "execution_count": 87,
          "metadata": {},
          "output_type": "execute_result"
        }
      ],
      "source": [
        "#ans_11_list = ans_1_list.cpoy()\n",
        "extracted_info = [[name], [designation], area.split(), city_info, [state_name], pin, website, mail_id, contact_number]\n",
        "processed_info = []\n",
        "for i in extracted_info:\n",
        "  for j in i:\n",
        "    processed_info.append(j)\n",
        "\n",
        "\n",
        "#processed_info\n",
        "final_info_1 = \" \".join([i for i in processed_info])\n",
        "final_info_1"
      ]
    },
    {
      "cell_type": "code",
      "execution_count": null,
      "metadata": {
        "colab": {
          "base_uri": "https://localhost:8080/"
        },
        "id": "acEm3aSLJjdj",
        "outputId": "e5e04e21-7cb4-4710-ef2e-a354e4889326"
      },
      "outputs": [
        {
          "data": {
            "text/plain": [
              "[',', 'Family', \"Restaurant'\", '']"
            ]
          },
          "execution_count": 88,
          "metadata": {},
          "output_type": "execute_result"
        }
      ],
      "source": [
        "organization = []\n",
        "for i in ans_4_list:\n",
        "  if i in final_info_1.split():\n",
        "    continue\n",
        "  else:\n",
        "    organization.append(i)\n",
        "organization"
      ]
    },
    {
      "cell_type": "code",
      "execution_count": null,
      "metadata": {
        "colab": {
          "base_uri": "https://localhost:8080/"
        },
        "id": "L0fhbPLcJjdj",
        "outputId": "914f06d0-4d79-4055-ef7c-4a73846c984a"
      },
      "outputs": [
        {
          "data": {
            "text/plain": [
              "['Family']"
            ]
          },
          "execution_count": 89,
          "metadata": {},
          "output_type": "execute_result"
        }
      ],
      "source": [
        "filtered_org = []\n",
        "for i in organization:\n",
        "  if i.isalpha() or i.isalnum():\n",
        "    filtered_org.append(i)\n",
        "\n",
        "filtered_org"
      ]
    },
    {
      "cell_type": "code",
      "execution_count": null,
      "metadata": {
        "id": "T6LzIPLFZ7Tj"
      },
      "outputs": [],
      "source": [
        "organization_name = \" \".join(i for i in filtered_org)\n",
        "organization_name"
      ]
    },
    {
      "cell_type": "code",
      "execution_count": null,
      "metadata": {
        "id": "zIVl1DOaZ8hu"
      },
      "outputs": [],
      "source": [
        "print(\n",
        "    f'''\n",
        "    Name : {name}\n",
        "    Designation : {designation}\n",
        "    Phone Number : {\" , \".join(i for i in contact_number)}\n",
        "    Company Name : {organization_name.title()}\n",
        "    Area : {area}\n",
        "    City : {city_name}\n",
        "    State : {state_name}\n",
        "    Pincode : {pin[0]}\n",
        "    Mail Id : {mail_id[0]}\n",
        "    Website : {web}\n",
        "    '''\n",
        ")"
      ]
    },
    {
      "cell_type": "markdown",
      "metadata": {
        "id": "TCDmauX2JlKa"
      },
      "source": [
        "# **Photo 5**"
      ]
    },
    {
      "cell_type": "markdown",
      "metadata": {
        "id": "m9AL2byLJlKb"
      },
      "source": [
        "**Number**"
      ]
    },
    {
      "cell_type": "code",
      "execution_count": null,
      "metadata": {
        "id": "WAeiCInzJlKb"
      },
      "outputs": [],
      "source": [
        "pattern_number = \"\\+\\d{2}-\\d{3}-\\d{4}|\\d{10}|\\+\\d{3}-\\d{3}-\\d{4}|\\d{3}-\\d{3}-\\d{4}\"\n",
        "contact_number = re.findall(pattern_number, ans_5)\n",
        "contact_number"
      ]
    },
    {
      "cell_type": "markdown",
      "metadata": {
        "id": "2779IWrUJlKb"
      },
      "source": [
        "**Mail id**"
      ]
    },
    {
      "cell_type": "code",
      "execution_count": null,
      "metadata": {
        "id": "uEsQZ0lCJlKb"
      },
      "outputs": [],
      "source": [
        "mail_pattern = r\"\\b[A-Za-z0-9._%+-]+@[A-Za-z0-9.-]+\\.[A-Z|a-z]{2,}\\b|\\b[A-Za-z0-9._%+-]+@[A-Za-z0-9.-]+ [A-Z|a-z]{2,}\\b\"\n",
        "mail_id = re.findall(mail_pattern, ans_5, re.IGNORECASE)\n",
        "mail_id"
      ]
    },
    {
      "cell_type": "markdown",
      "metadata": {
        "id": "JxJ0e02XJlKb"
      },
      "source": [
        "**Website**"
      ]
    },
    {
      "cell_type": "code",
      "execution_count": null,
      "metadata": {
        "id": "kUCr465UJlKb"
      },
      "outputs": [],
      "source": [
        "website_pattern =  \"www\\.[^ ]+|www [^ ]+|www\\.[^ ]com|www [^ ]+ [^ ]+|www\\.[^ ]+ [^ ]+\"\n",
        "website = re.findall(website_pattern, ans_5,re.IGNORECASE)[0].split()\n",
        "website"
      ]
    },
    {
      "cell_type": "code",
      "execution_count": null,
      "metadata": {
        "id": "7EvzjW28bhxK"
      },
      "outputs": [],
      "source": [
        "if len(website) == 1:\n",
        "  web = website[0]\n",
        "  web = web.replace(web[:3], web[:3].lower())\n",
        "  web = web.replace(web[:3], web[:3].lower())\n",
        "elif len(website) > 1:\n",
        "  web = \".\".join(i for i in website)\n",
        "  web = web.replace(web[:3], web[:3].lower())\n",
        "  web = web.replace(web[:3], web[:3].lower())\n",
        "  \n",
        "web"
      ]
    },
    {
      "cell_type": "markdown",
      "metadata": {
        "id": "SmKDQX_OJlKb"
      },
      "source": [
        "Pin"
      ]
    },
    {
      "cell_type": "code",
      "execution_count": null,
      "metadata": {
        "id": "e1K670SuJlKb"
      },
      "outputs": [],
      "source": [
        "pin_pattern = \"\\d{6}|\\d{6} \"\n",
        "pin = re.findall(pin_pattern,ans_5)\n",
        "pin = [pin[0].strip()]\n",
        "pin"
      ]
    },
    {
      "cell_type": "markdown",
      "metadata": {
        "id": "ERjBBZdeJlKc"
      },
      "source": [
        "Finding Address Line"
      ]
    },
    {
      "cell_type": "markdown",
      "metadata": {
        "id": "dyyUZU0LJlKc"
      },
      "source": [
        "**1 - Removing all finded items in from the list**"
      ]
    },
    {
      "cell_type": "code",
      "execution_count": null,
      "metadata": {
        "id": "67KCQk1dJlKc"
      },
      "outputs": [],
      "source": [
        "info_found = []\n",
        "for i in [contact_number, mail_id, website]:\n",
        "  for j in i:\n",
        "    info_found.append(j)\n",
        "\n",
        "info_found"
      ]
    },
    {
      "cell_type": "code",
      "execution_count": null,
      "metadata": {
        "id": "W8i2pXfaJlKc"
      },
      "outputs": [],
      "source": [
        "#Finding address line \n",
        "new_list = []\n",
        "for i in ans_5_list:\n",
        "  if i in info_found:\n",
        "    continue\n",
        "  else:\n",
        "    new_list.append(i)\n",
        "\n",
        "new_str = \" \".join([i for i in new_list]).replace(\";\", \",\")\n",
        "new_str"
      ]
    },
    {
      "cell_type": "markdown",
      "metadata": {
        "id": "aHFZG6oJJlKc"
      },
      "source": [
        "**2 - Pattern matching for address line**"
      ]
    },
    {
      "cell_type": "code",
      "execution_count": null,
      "metadata": {
        "id": "TpeHm-hRJlKc"
      },
      "outputs": [],
      "source": [
        "address_pattern = f\"(\\d+ .*?{pin[0]})\"\n",
        "address_list1 = re.findall(address_pattern, new_str)[0].split()\n",
        "\" \".join([i for i in address_list1])"
      ]
    },
    {
      "cell_type": "code",
      "execution_count": null,
      "metadata": {
        "id": "xkiO91swJlKc"
      },
      "outputs": [],
      "source": [
        "state_name = address_list1.pop(-2)\n",
        "state_name"
      ]
    },
    {
      "cell_type": "code",
      "execution_count": null,
      "metadata": {
        "id": "EPTdAZvZbq2W"
      },
      "outputs": [],
      "source": [
        "city_name = \"\"\n",
        "for i in address_list1[::-1]:\n",
        "  if i.isalpha and i.endswith(\",\"):\n",
        "    city_name += i.strip(\",\")\n",
        "    break\n",
        "city_name"
      ]
    },
    {
      "cell_type": "code",
      "execution_count": null,
      "metadata": {
        "id": "sYcc0ZG-JlKc"
      },
      "outputs": [],
      "source": [
        "address_list2 = \" \".join([i for i in address_list1]).split(\",\")\n",
        "address_lst = []\n",
        "for i in address_list2:\n",
        "  if len(i) > 1:\n",
        "    address_lst.append(i)\n",
        "  else:\n",
        "    continue\n",
        "area = address_lst[0]\n",
        "print(area)"
      ]
    },
    {
      "cell_type": "code",
      "execution_count": null,
      "metadata": {
        "id": "3QHzFSqXJlKd"
      },
      "outputs": [],
      "source": [
        "city_info = []\n",
        "for i in address_list1:\n",
        "  if i.startswith(city_name.strip()):\n",
        "    city_info.append(i)\n",
        "  else:\n",
        "    continue\n",
        "\n",
        "city_info\n"
      ]
    },
    {
      "cell_type": "markdown",
      "metadata": {
        "id": "0qs_M0-zJlKd"
      },
      "source": [
        "**Name , designation**"
      ]
    },
    {
      "cell_type": "code",
      "execution_count": null,
      "metadata": {
        "id": "y9jKNoTRJlKd"
      },
      "outputs": [],
      "source": [
        "name = result_5[0][1]\n",
        "designation = result_5[1][1]\n",
        "print(name)\n",
        "designation\n"
      ]
    },
    {
      "cell_type": "markdown",
      "metadata": {
        "id": "a6sN9Zw3JlKd"
      },
      "source": [
        "**Consolidating Informations**"
      ]
    },
    {
      "cell_type": "code",
      "execution_count": null,
      "metadata": {
        "id": "04DkBHhhJlKd"
      },
      "outputs": [],
      "source": [
        "#ans_11_list = ans_1_list.cpoy()\n",
        "extracted_info = [[name], [designation], area.split(), city_info, [state_name], pin, website, mail_id, contact_number]\n",
        "processed_info = []\n",
        "for i in extracted_info:\n",
        "  for j in i:\n",
        "    processed_info.append(j)\n",
        "\n",
        "\n",
        "#processed_info\n",
        "final_info_1 = \" \".join([i for i in processed_info])\n",
        "final_info_1"
      ]
    },
    {
      "cell_type": "code",
      "execution_count": null,
      "metadata": {
        "id": "Ybl-uAnPJlKd"
      },
      "outputs": [],
      "source": [
        "organization = []\n",
        "for i in ans_5_list:\n",
        "  if i in final_info_1.split():\n",
        "    continue\n",
        "  else:\n",
        "    organization.append(i)\n",
        "organization"
      ]
    },
    {
      "cell_type": "code",
      "execution_count": null,
      "metadata": {
        "id": "N6EbHd-JJlKd"
      },
      "outputs": [],
      "source": [
        "filtered_org = []\n",
        "for i in organization:\n",
        "  if i.isalpha():\n",
        "    filtered_org.append(i)\n",
        "\n",
        "filtered_org"
      ]
    },
    {
      "cell_type": "code",
      "execution_count": null,
      "metadata": {
        "id": "MifMIqT5bzSq"
      },
      "outputs": [],
      "source": [
        "organization_name = \" \".join(i for i in filtered_org)\n",
        "organization_name"
      ]
    },
    {
      "cell_type": "code",
      "execution_count": null,
      "metadata": {
        "id": "FoVLQbCXb02y"
      },
      "outputs": [],
      "source": [
        "print(\n",
        "    f'''\n",
        "    Name : {name}\n",
        "    Designation : {designation}\n",
        "    Phone Number : {\" , \".join(i for i in contact_number)}\n",
        "    Company Name : {organization_name.title()}\n",
        "    Area : {area}\n",
        "    City : {city_name}\n",
        "    State : {state_name}\n",
        "    Pincode : {pin[0]}\n",
        "    Mail Id : {mail_id[0]}\n",
        "    Website : {web}\n",
        "    '''\n",
        ")"
      ]
    },
    {
      "cell_type": "markdown",
      "metadata": {
        "id": "-aj9DTfacDzs"
      },
      "source": [
        "# **Streamlit web app building**"
      ]
    },
    {
      "cell_type": "code",
      "execution_count": 4,
      "metadata": {
        "colab": {
          "base_uri": "https://localhost:8080/"
        },
        "id": "yrK3vz-mrhy6",
        "outputId": "791450e1-e55c-44a0-ec37-061a2cb958a2"
      },
      "outputs": [
        {
          "output_type": "stream",
          "name": "stdout",
          "text": [
            "Looking in indexes: https://pypi.org/simple, https://us-python.pkg.dev/colab-wheels/public/simple/\n",
            "Collecting pyngrok==4.1.1\n",
            "  Downloading pyngrok-4.1.1.tar.gz (18 kB)\n",
            "  Preparing metadata (setup.py) ... \u001b[?25l\u001b[?25hdone\n",
            "Requirement already satisfied: future in /usr/local/lib/python3.8/dist-packages (from pyngrok==4.1.1) (0.16.0)\n",
            "Requirement already satisfied: PyYAML in /usr/local/lib/python3.8/dist-packages (from pyngrok==4.1.1) (6.0)\n",
            "Building wheels for collected packages: pyngrok\n",
            "  Building wheel for pyngrok (setup.py) ... \u001b[?25l\u001b[?25hdone\n",
            "  Created wheel for pyngrok: filename=pyngrok-4.1.1-py3-none-any.whl size=15982 sha256=e48ae96e6f709188c574ba42a731e0efddbac14089887bae0dd4899da4edc1fa\n",
            "  Stored in directory: /root/.cache/pip/wheels/5e/0a/51/8cb053ccd84481dd3233eba4cdb608bc7a885fd8ca418c0806\n",
            "Successfully built pyngrok\n",
            "Installing collected packages: pyngrok\n",
            "Successfully installed pyngrok-4.1.1\n",
            "\u001b[2K     \u001b[90m━━━━━━━━━━━━━━━━━━━━━━━━━━━━━━━━━━━━━━━━\u001b[0m \u001b[32m9.6/9.6 MB\u001b[0m \u001b[31m78.5 MB/s\u001b[0m eta \u001b[36m0:00:00\u001b[0m\n",
            "\u001b[2K     \u001b[90m━━━━━━━━━━━━━━━━━━━━━━━━━━━━━━━━━━━━━━━━\u001b[0m \u001b[32m4.7/4.7 MB\u001b[0m \u001b[31m82.5 MB/s\u001b[0m eta \u001b[36m0:00:00\u001b[0m\n",
            "\u001b[2K     \u001b[90m━━━━━━━━━━━━━━━━━━━━━━━━━━━━━━━━━━━━━━\u001b[0m \u001b[32m238.7/238.7 KB\u001b[0m \u001b[31m21.3 MB/s\u001b[0m eta \u001b[36m0:00:00\u001b[0m\n",
            "\u001b[2K     \u001b[90m━━━━━━━━━━━━━━━━━━━━━━━━━━━━━━━━━━━━━━\u001b[0m \u001b[32m164.8/164.8 KB\u001b[0m \u001b[31m17.4 MB/s\u001b[0m eta \u001b[36m0:00:00\u001b[0m\n",
            "\u001b[?25h  Preparing metadata (setup.py) ... \u001b[?25l\u001b[?25hdone\n",
            "\u001b[2K     \u001b[90m━━━━━━━━━━━━━━━━━━━━━━━━━━━━━━━━━━━━━━\u001b[0m \u001b[32m184.3/184.3 KB\u001b[0m \u001b[31m19.7 MB/s\u001b[0m eta \u001b[36m0:00:00\u001b[0m\n",
            "\u001b[2K     \u001b[90m━━━━━━━━━━━━━━━━━━━━━━━━━━━━━━━━━━━━━━━━\u001b[0m \u001b[32m80.6/80.6 KB\u001b[0m \u001b[31m7.2 MB/s\u001b[0m eta \u001b[36m0:00:00\u001b[0m\n",
            "\u001b[2K     \u001b[90m━━━━━━━━━━━━━━━━━━━━━━━━━━━━━━━━━━━━━━━━\u001b[0m \u001b[32m62.7/62.7 KB\u001b[0m \u001b[31m6.9 MB/s\u001b[0m eta \u001b[36m0:00:00\u001b[0m\n",
            "\u001b[2K     \u001b[90m━━━━━━━━━━━━━━━━━━━━━━━━━━━━━━━━━━━━━━━━\u001b[0m \u001b[32m84.5/84.5 KB\u001b[0m \u001b[31m8.4 MB/s\u001b[0m eta \u001b[36m0:00:00\u001b[0m\n",
            "\u001b[2K     \u001b[90m━━━━━━━━━━━━━━━━━━━━━━━━━━━━━━━━━━━━━━━━\u001b[0m \u001b[32m1.1/1.1 MB\u001b[0m \u001b[31m52.4 MB/s\u001b[0m eta \u001b[36m0:00:00\u001b[0m\n",
            "\u001b[?25h  Building wheel for validators (setup.py) ... \u001b[?25l\u001b[?25hdone\n",
            "\u001b[31mERROR: pip's dependency resolver does not currently take into account all the packages that are installed. This behaviour is the source of the following dependency conflicts.\n",
            "ipython 7.9.0 requires jedi>=0.10, which is not installed.\u001b[0m\u001b[31m\n",
            "\u001b[0mLooking in indexes: https://pypi.org/simple, https://us-python.pkg.dev/colab-wheels/public/simple/\n",
            "Requirement already satisfied: pyngrok in /usr/local/lib/python3.8/dist-packages (4.1.1)\n",
            "Requirement already satisfied: PyYAML in /usr/local/lib/python3.8/dist-packages (from pyngrok) (6.0)\n",
            "Requirement already satisfied: future in /usr/local/lib/python3.8/dist-packages (from pyngrok) (0.16.0)\n",
            "Looking in indexes: https://pypi.org/simple, https://us-python.pkg.dev/colab-wheels/public/simple/\n",
            "Collecting streamlit-lottie\n",
            "  Downloading streamlit_lottie-0.0.3-py3-none-any.whl (769 kB)\n",
            "\u001b[2K     \u001b[90m━━━━━━━━━━━━━━━━━━━━━━━━━━━━━━━━━━━━━━\u001b[0m \u001b[32m769.4/769.4 KB\u001b[0m \u001b[31m27.0 MB/s\u001b[0m eta \u001b[36m0:00:00\u001b[0m\n",
            "\u001b[?25hRequirement already satisfied: streamlit>=0.63 in /usr/local/lib/python3.8/dist-packages (from streamlit-lottie) (1.19.0)\n",
            "Requirement already satisfied: rich>=10.11.0 in /usr/local/lib/python3.8/dist-packages (from streamlit>=0.63->streamlit-lottie) (13.3.2)\n",
            "Requirement already satisfied: tzlocal>=1.1 in /usr/local/lib/python3.8/dist-packages (from streamlit>=0.63->streamlit-lottie) (1.5.1)\n",
            "Requirement already satisfied: importlib-metadata>=1.4 in /usr/local/lib/python3.8/dist-packages (from streamlit>=0.63->streamlit-lottie) (6.0.0)\n",
            "Requirement already satisfied: python-dateutil in /usr/local/lib/python3.8/dist-packages (from streamlit>=0.63->streamlit-lottie) (2.8.2)\n",
            "Requirement already satisfied: pympler>=0.9 in /usr/local/lib/python3.8/dist-packages (from streamlit>=0.63->streamlit-lottie) (1.0.1)\n",
            "Requirement already satisfied: click>=7.0 in /usr/local/lib/python3.8/dist-packages (from streamlit>=0.63->streamlit-lottie) (8.1.3)\n",
            "Requirement already satisfied: typing-extensions>=3.10.0.0 in /usr/local/lib/python3.8/dist-packages (from streamlit>=0.63->streamlit-lottie) (4.5.0)\n",
            "Requirement already satisfied: semver in /usr/local/lib/python3.8/dist-packages (from streamlit>=0.63->streamlit-lottie) (2.13.0)\n",
            "Requirement already satisfied: blinker>=1.0.0 in /usr/local/lib/python3.8/dist-packages (from streamlit>=0.63->streamlit-lottie) (1.5)\n",
            "Requirement already satisfied: cachetools>=4.0 in /usr/local/lib/python3.8/dist-packages (from streamlit>=0.63->streamlit-lottie) (5.3.0)\n",
            "Requirement already satisfied: gitpython!=3.1.19 in /usr/local/lib/python3.8/dist-packages (from streamlit>=0.63->streamlit-lottie) (3.1.31)\n",
            "Requirement already satisfied: pydeck>=0.1.dev5 in /usr/local/lib/python3.8/dist-packages (from streamlit>=0.63->streamlit-lottie) (0.8.0)\n",
            "Requirement already satisfied: protobuf<4,>=3.12 in /usr/local/lib/python3.8/dist-packages (from streamlit>=0.63->streamlit-lottie) (3.19.6)\n",
            "Requirement already satisfied: watchdog in /usr/local/lib/python3.8/dist-packages (from streamlit>=0.63->streamlit-lottie) (2.3.1)\n",
            "Requirement already satisfied: pandas>=0.25 in /usr/local/lib/python3.8/dist-packages (from streamlit>=0.63->streamlit-lottie) (1.3.5)\n",
            "Requirement already satisfied: validators>=0.2 in /usr/local/lib/python3.8/dist-packages (from streamlit>=0.63->streamlit-lottie) (0.20.0)\n",
            "Requirement already satisfied: numpy in /usr/local/lib/python3.8/dist-packages (from streamlit>=0.63->streamlit-lottie) (1.22.4)\n",
            "Requirement already satisfied: requests>=2.4 in /usr/local/lib/python3.8/dist-packages (from streamlit>=0.63->streamlit-lottie) (2.25.1)\n",
            "Requirement already satisfied: altair>=3.2.0 in /usr/local/lib/python3.8/dist-packages (from streamlit>=0.63->streamlit-lottie) (4.2.2)\n",
            "Requirement already satisfied: toml in /usr/local/lib/python3.8/dist-packages (from streamlit>=0.63->streamlit-lottie) (0.10.2)\n",
            "Requirement already satisfied: tornado>=6.0.3 in /usr/local/lib/python3.8/dist-packages (from streamlit>=0.63->streamlit-lottie) (6.2)\n",
            "Requirement already satisfied: pillow>=6.2.0 in /usr/local/lib/python3.8/dist-packages (from streamlit>=0.63->streamlit-lottie) (8.4.0)\n",
            "Requirement already satisfied: packaging>=14.1 in /usr/local/lib/python3.8/dist-packages (from streamlit>=0.63->streamlit-lottie) (23.0)\n",
            "Requirement already satisfied: pyarrow>=4.0 in /usr/local/lib/python3.8/dist-packages (from streamlit>=0.63->streamlit-lottie) (9.0.0)\n",
            "Requirement already satisfied: toolz in /usr/local/lib/python3.8/dist-packages (from altair>=3.2.0->streamlit>=0.63->streamlit-lottie) (0.12.0)\n",
            "Requirement already satisfied: jinja2 in /usr/local/lib/python3.8/dist-packages (from altair>=3.2.0->streamlit>=0.63->streamlit-lottie) (3.1.2)\n",
            "Requirement already satisfied: jsonschema>=3.0 in /usr/local/lib/python3.8/dist-packages (from altair>=3.2.0->streamlit>=0.63->streamlit-lottie) (4.3.3)\n",
            "Requirement already satisfied: entrypoints in /usr/local/lib/python3.8/dist-packages (from altair>=3.2.0->streamlit>=0.63->streamlit-lottie) (0.4)\n",
            "Requirement already satisfied: gitdb<5,>=4.0.1 in /usr/local/lib/python3.8/dist-packages (from gitpython!=3.1.19->streamlit>=0.63->streamlit-lottie) (4.0.10)\n",
            "Requirement already satisfied: zipp>=0.5 in /usr/local/lib/python3.8/dist-packages (from importlib-metadata>=1.4->streamlit>=0.63->streamlit-lottie) (3.15.0)\n",
            "Requirement already satisfied: pytz>=2017.3 in /usr/local/lib/python3.8/dist-packages (from pandas>=0.25->streamlit>=0.63->streamlit-lottie) (2022.7.1)\n",
            "Requirement already satisfied: six>=1.5 in /usr/local/lib/python3.8/dist-packages (from python-dateutil->streamlit>=0.63->streamlit-lottie) (1.15.0)\n",
            "Requirement already satisfied: idna<3,>=2.5 in /usr/local/lib/python3.8/dist-packages (from requests>=2.4->streamlit>=0.63->streamlit-lottie) (2.10)\n",
            "Requirement already satisfied: chardet<5,>=3.0.2 in /usr/local/lib/python3.8/dist-packages (from requests>=2.4->streamlit>=0.63->streamlit-lottie) (4.0.0)\n",
            "Requirement already satisfied: urllib3<1.27,>=1.21.1 in /usr/local/lib/python3.8/dist-packages (from requests>=2.4->streamlit>=0.63->streamlit-lottie) (1.26.14)\n",
            "Requirement already satisfied: certifi>=2017.4.17 in /usr/local/lib/python3.8/dist-packages (from requests>=2.4->streamlit>=0.63->streamlit-lottie) (2022.12.7)\n",
            "Requirement already satisfied: markdown-it-py<3.0.0,>=2.2.0 in /usr/local/lib/python3.8/dist-packages (from rich>=10.11.0->streamlit>=0.63->streamlit-lottie) (2.2.0)\n",
            "Requirement already satisfied: pygments<3.0.0,>=2.13.0 in /usr/local/lib/python3.8/dist-packages (from rich>=10.11.0->streamlit>=0.63->streamlit-lottie) (2.14.0)\n",
            "Requirement already satisfied: decorator>=3.4.0 in /usr/local/lib/python3.8/dist-packages (from validators>=0.2->streamlit>=0.63->streamlit-lottie) (4.4.2)\n",
            "Requirement already satisfied: smmap<6,>=3.0.1 in /usr/local/lib/python3.8/dist-packages (from gitdb<5,>=4.0.1->gitpython!=3.1.19->streamlit>=0.63->streamlit-lottie) (5.0.0)\n",
            "Requirement already satisfied: MarkupSafe>=2.0 in /usr/local/lib/python3.8/dist-packages (from jinja2->altair>=3.2.0->streamlit>=0.63->streamlit-lottie) (2.1.2)\n",
            "Requirement already satisfied: attrs>=17.4.0 in /usr/local/lib/python3.8/dist-packages (from jsonschema>=3.0->altair>=3.2.0->streamlit>=0.63->streamlit-lottie) (22.2.0)\n",
            "Requirement already satisfied: pyrsistent!=0.17.0,!=0.17.1,!=0.17.2,>=0.14.0 in /usr/local/lib/python3.8/dist-packages (from jsonschema>=3.0->altair>=3.2.0->streamlit>=0.63->streamlit-lottie) (0.19.3)\n",
            "Requirement already satisfied: importlib-resources>=1.4.0 in /usr/local/lib/python3.8/dist-packages (from jsonschema>=3.0->altair>=3.2.0->streamlit>=0.63->streamlit-lottie) (5.12.0)\n",
            "Requirement already satisfied: mdurl~=0.1 in /usr/local/lib/python3.8/dist-packages (from markdown-it-py<3.0.0,>=2.2.0->rich>=10.11.0->streamlit>=0.63->streamlit-lottie) (0.1.2)\n",
            "Installing collected packages: streamlit-lottie\n",
            "Successfully installed streamlit-lottie-0.0.3\n"
          ]
        }
      ],
      "source": [
        "!pip install pyngrok==4.1.1\n",
        "!pip install streamlit -q\n",
        "!pip install pyngrok\n",
        "!pip install streamlit-lottie"
      ]
    },
    {
      "cell_type": "code",
      "execution_count": 5,
      "metadata": {
        "colab": {
          "base_uri": "https://localhost:8080/"
        },
        "id": "sZw38TJapBTn",
        "outputId": "f87c932b-4ffd-49d8-9dd4-881500aab68e"
      },
      "outputs": [
        {
          "output_type": "stream",
          "name": "stdout",
          "text": [
            "Authtoken saved to configuration file: /root/.ngrok2/ngrok.yml\n"
          ]
        }
      ],
      "source": [
        "!ngrok authtoken 2Kjk1sNkgtHmhrvADxwoX7sWOtY_87unGjkb4XkX7h8bLv2fs"
      ]
    },
    {
      "cell_type": "code",
      "execution_count": 6,
      "metadata": {
        "colab": {
          "base_uri": "https://localhost:8080/"
        },
        "id": "q72mu1FgpCj8",
        "outputId": "191681b4-863a-40bd-c802-f5fb0347b564"
      },
      "outputs": [
        {
          "output_type": "stream",
          "name": "stdout",
          "text": [
            "--2023-03-07 16:03:42--  https://bin.equinox.io/c/4VmDzA7iaHb/ngrok-stable-linux-amd64.zip\n",
            "Resolving bin.equinox.io (bin.equinox.io)... 52.202.168.65, 18.205.222.128, 54.237.133.81, ...\n",
            "Connecting to bin.equinox.io (bin.equinox.io)|52.202.168.65|:443... connected.\n",
            "HTTP request sent, awaiting response... 200 OK\n",
            "Length: 13921656 (13M) [application/octet-stream]\n",
            "Saving to: ‘ngrok-stable-linux-amd64.zip’\n",
            "\n",
            "ngrok-stable-linux- 100%[===================>]  13.28M  12.9MB/s    in 1.0s    \n",
            "\n",
            "2023-03-07 16:03:43 (12.9 MB/s) - ‘ngrok-stable-linux-amd64.zip’ saved [13921656/13921656]\n",
            "\n"
          ]
        }
      ],
      "source": [
        "!wget https://bin.equinox.io/c/4VmDzA7iaHb/ngrok-stable-linux-amd64.zip\n",
        "!unzip -qq ngrok-stable-linux-amd64.zip"
      ]
    },
    {
      "cell_type": "code",
      "execution_count": 40,
      "metadata": {
        "colab": {
          "base_uri": "https://localhost:8080/"
        },
        "id": "i-h4OEdoOHmd",
        "outputId": "8dec6520-56c4-47f6-cd8f-d05ab143752b"
      },
      "outputs": [
        {
          "output_type": "stream",
          "name": "stdout",
          "text": [
            "Writing function.py\n"
          ]
        }
      ],
      "source": [
        "%%writefile function.py\n",
        "#Modules required\n",
        "#!pip install easyocr\n",
        "#!pip install geopy\n",
        "import easyocr\n",
        "import re\n",
        "import pandas as pd\n",
        "import cv2\n",
        "import numpy as np\n",
        "import sqlite3\n",
        "\n",
        "def convertToBinaryData(filename):\n",
        "  image = cv2.imread(filename)\n",
        "  is_success, im_buf_arr = cv2.imencode(\".png\", image)\n",
        "  byte_im = im_buf_arr.tobytes()\n",
        "  return byte_im\n",
        "\n",
        "\n",
        "\n",
        "def ocr(image_bytes):\n",
        "\n",
        "    reader = easyocr.Reader([\"en\", \"fr\"])\n",
        "    result_1 = reader.readtext(image_bytes)\n",
        "\n",
        "    ans_1 = \"\"\n",
        "    for i in result_1:\n",
        "      ans_1 += i[1]+\" \"\n",
        "\n",
        "    ans_1 = ans_1.replace(\";\", \",\")\n",
        "    ans_1_list = ans_1.split(\" \")\n",
        "\n",
        "    #Contact Number\n",
        "    pattern_number = \"\\+\\d{2}-\\d{3}-\\d{4}|\\d{10}|\\+\\d{3}-\\d{3}-\\d{4}|\\d{3}-\\d{3}-\\d{4}\"\n",
        "    contact_number = re.findall(pattern_number, ans_1)\n",
        "\n",
        "    #Mail Id \n",
        "    mail_pattern = r\"\\b[A-Za-z0-9._%+-]+@[A-Za-z0-9.-]+\\.[A-Z|a-z]{2,}\\b|\\b[A-Za-z0-9._%+-]+@[A-Za-z0-9.-]+ [A-Z|a-z]{2,}\\b\"\n",
        "    mail_id = re.findall(mail_pattern, ans_1, re.IGNORECASE)\n",
        "\n",
        "    #Website\n",
        "    website_pattern =  \"www\\.[^ ]+|www [^ ]+|www\\.[^ ]com|www [^ ]+ [^ ]+|www\\.[^ ]+ [^ ]+\"\n",
        "    website = re.findall(website_pattern, ans_1,re.IGNORECASE)[0].split()\n",
        "\n",
        "    #website cleaning\n",
        "    if len(website) == 1:\n",
        "      web = website[0]\n",
        "      web = web.replace(web[:3], web[:3].lower())\n",
        "      web = web.replace(web[:3], web[:3].lower())\n",
        "    elif len(website) > 1:\n",
        "      web = \".\".join(i for i in website)\n",
        "      web = web.replace(web[:3], web[:3].lower())\n",
        "      web = web.replace(web[:3], web[:3].lower())\n",
        "    #\n",
        "    #Discarding obtained information\n",
        "    info_found = []\n",
        "    for i in [contact_number, mail_id, website]:\n",
        "      for j in i:\n",
        "        info_found.append(j)\n",
        "\n",
        "    #Finding address line \n",
        "    new_list = []\n",
        "    for i in ans_1_list:\n",
        "      if i in info_found:\n",
        "        continue\n",
        "      else:\n",
        "        new_list.append(i)\n",
        "\n",
        "    new_str = \" \".join([i for i in new_list]).replace(\";\", \",\")\n",
        "\n",
        "    #Pin code\n",
        "    pin_pattern = \"\\d{6}|\\d{6} \"\n",
        "    pin = re.findall(pin_pattern,new_str)\n",
        "    pin = [pin[0].strip()]\n",
        "    pin\n",
        "\n",
        "    #Finding whole address line\n",
        "    address_pattern = f\"(\\d+ .*?{pin[0]})\"\n",
        "    address_list1 = re.findall(address_pattern, new_str)[0].split()\n",
        "\n",
        "    #State Name\n",
        "    state_name = address_list1.pop(-2)\n",
        "    state_name\n",
        "\n",
        "    #City Name\n",
        "    city_name = \"\"\n",
        "    for i in address_list1[::-1]:\n",
        "      if i.isalpha and i.endswith(\",\"):\n",
        "        city_name += i.strip(\",\")\n",
        "        break\n",
        "\n",
        "    #Area\n",
        "    address_list2 = \" \".join([i for i in address_list1]).split(\",\")\n",
        "    address_lst = []\n",
        "    for i in address_list2:\n",
        "      if len(i) > 1:\n",
        "        address_lst.append(i)\n",
        "      else:\n",
        "        continue\n",
        "\n",
        "    area = address_lst[0]\n",
        "    \n",
        "    #For discarding purpose\n",
        "    city_info = []\n",
        "    for i in address_list1:\n",
        "      if i.startswith(city_name.strip()):\n",
        "        city_info.append(i)\n",
        "      else:\n",
        "        continue\n",
        "\n",
        "    #Name and Designation\n",
        "    name = result_1[0][1]\n",
        "    designation = result_1[1][1]\n",
        "\n",
        "    #Consolidatinng founded information\n",
        "    extracted_info = [[name], [designation], area.split(), city_info, [state_name], pin, website, mail_id, contact_number]\n",
        "    processed_info = []\n",
        "    for i in extracted_info:\n",
        "      for j in i:\n",
        "        processed_info.append(j)\n",
        "\n",
        "    final_info_1 = \" \".join([i for i in processed_info])\n",
        "\n",
        "\n",
        "    organization = []\n",
        "    for i in ans_1_list:\n",
        "      if i in final_info_1.split():\n",
        "        continue\n",
        "      else:\n",
        "        organization.append(i)\n",
        "\n",
        "    filtered_org = []\n",
        "    for i in organization:\n",
        "      if i.strip(\"'\").isalpha():\n",
        "        filtered_org.append(i)\n",
        "\n",
        "    # Organization Name\n",
        "    organization_name = \" \".join(i for i in filtered_org)\n",
        "    organization_name\n",
        "\n",
        "    \n",
        "    card_image = image_bytes\n",
        "    \n",
        "\n",
        "\n",
        "    out_tuple = (\n",
        "        str(name), \n",
        "        str(designation), \n",
        "        str(\" , \".join(i for i in contact_number)),\n",
        "        str(organization_name.title()),\n",
        "        str(area),\n",
        "        str(city_name),\n",
        "        str(state_name),\n",
        "        int(pin[0]),\n",
        "        str(\".\".join(i for i in mail_id)),\n",
        "        str(web),\n",
        "        card_image\n",
        "    )\n",
        "\n",
        "    return out_tuple\n",
        "\n",
        "def update_info(info_tuple):\n",
        "\n",
        "  conn = sqlite3.connect(\"Karnan.db\", isolation_level=None,timeout=0.01)\n",
        "  cur = conn.cursor()\n",
        "\n",
        "  cur.execute('''CREATE TABLE IF NOT EXISTS BUSINESS_CARD_DETAILS(\n",
        "    NAME VARCHAR(50),\n",
        "    DESIGNATION VARCHAR(75),\n",
        "    CONTACT_NUMBER VARCHAR(50),\n",
        "    ORGANIZATION_NAME VARCHAR(75),\n",
        "    AREA VARCHAR(80),\n",
        "    CITY VARCHAR(50),\n",
        "    STATE VARCHAR(50),\n",
        "    PINCODE INT,\n",
        "    MAIL_ID VARCHAR(50),\n",
        "    WEBSITE VARCHAR(50),\n",
        "    IMAGE BLOB\n",
        "  )''')\n",
        "\n",
        "  insert_query = \"\"\"INSERT INTO BUSINESS_CARD_DETAILS(NAME, DESIGNATION, CONTACT_NUMBER, ORGANIZATION_NAME, AREA, CITY, STATE, PINCODE, MAIL_ID, WEBSITE, IMAGE) VALUES (?, ?, ?, ?, ?, ?, ?, ?, ?, ?, ?)\"\"\"\n",
        "  cur.execute(insert_query, info_tuple)\n",
        "  conn.commit()\n",
        "\n",
        "  return \"Uploded Successfully\"\n",
        "\n",
        "\n",
        "def view_all_data():\n",
        "\n",
        "  conn = sqlite3.connect(\"Karnan.db\", isolation_level=None,timeout=0.01)\n",
        "  cur = conn.cursor()\n",
        "\n",
        "  fetch_data2 = cur.execute(f\"select * from BUSINESS_CARD_DETAILS\")\n",
        "  fetch_data2 = cur.fetchall()\n",
        "  #fetching the column names of the data\n",
        "  cols = []\n",
        "  for i in cur.execute(\"PRAGMA table_info(BUSINESS_CARD_DETAILS)\"):\n",
        "    cols.append(i[1])\n",
        "\n",
        "  new_df = pd.DataFrame(fetch_data2, columns = cols)\n",
        "\n",
        "  if new_df.shape[0] > 0:\n",
        "    return new_df.T\n",
        "  elif new_df.shape[0] == 0:\n",
        "    return \"No Records found\"\n",
        "\n",
        "def view_data(name):\n",
        "  conn = sqlite3.connect(\"Karnan.db\", isolation_level=None,timeout=0.01)\n",
        "  cur = conn.cursor()\n",
        "\n",
        "  fetch_data2 = cur.execute(f\"select * from BUSINESS_CARD_DETAILS WHERE NAME = '{name}'\")\n",
        "  fetch_data2 = cur.fetchall()\n",
        "  #fetching the column names of the data\n",
        "  cols = []\n",
        "  for i in cur.execute(\"PRAGMA table_info(BUSINESS_CARD_DETAILS)\"):\n",
        "    cols.append(i[1])\n",
        "\n",
        "  new_df = pd.DataFrame(fetch_data2, columns = cols)\n",
        "\n",
        "  if new_df.shape[0] > 0:\n",
        "    return new_df.T\n",
        "  elif new_df.shape[0] == 0:\n",
        "    return \"No Records found\"\n",
        "\n",
        "\n",
        "def delete_record(name):\n",
        "\n",
        "  conn = sqlite3.connect(\"Karnan.db\", isolation_level=None,timeout=0.01)\n",
        "  cur = conn.cursor()\n",
        "\n",
        "  fetch_data2 = cur.execute(f\"select * from BUSINESS_CARD_DETAILS WHERE NAME = '{name}'\")\n",
        "  fetch_data2 = cur.fetchall()\n",
        "  #fetching the column names of the data\n",
        "  cols = []\n",
        "  for i in cur.execute(\"PRAGMA table_info(BUSINESS_CARD_DETAILS)\"):\n",
        "    cols.append(i[1])\n",
        "  new_df = pd.DataFrame(fetch_data2, columns = cols)\n",
        "\n",
        "  if new_df.shape[0] > 0:\n",
        "    cur.execute(f\"DELETE FROM BUSINESS_CARD_DETAILS WHERE NAME = '{name}'\")\n",
        "    return \"Deleted successfully\"\n",
        "  elif new_df.shape[0] == 0:\n",
        "    return \"No Such Record found\"\n",
        "\n"
      ]
    },
    {
      "cell_type": "code",
      "execution_count": 41,
      "metadata": {
        "colab": {
          "base_uri": "https://localhost:8080/"
        },
        "id": "Y4e0FYka10rb",
        "outputId": "c2467ee0-df69-48dc-f44f-9452679fb700"
      },
      "outputs": [
        {
          "output_type": "stream",
          "name": "stdout",
          "text": [
            "Writing ocr.py\n"
          ]
        }
      ],
      "source": [
        "%%writefile ocr.py\n",
        "from function_new import ocr, convertToBinaryData, update_info, view_all_data, view_data, delete_record\n",
        "import streamlit as st\n",
        "from PIL import Image\n",
        "import io\n",
        "import json\n",
        "import requests\n",
        "from streamlit_lottie import st_lottie\n",
        "\n",
        "#Function for loading visuals\n",
        "def load_lottieurl(url):\n",
        "  r = requests.get(url)\n",
        "  if r.status_code != 200:\n",
        "    return None\n",
        "  return r.json()\n",
        "\n",
        "st.markdown(\"<h1 style='text-align: center; color: red;'>BUSINESS CARD READER</h1>\", unsafe_allow_html=True)\n",
        "file = st.file_uploader(\"Upload file\", type=[\"jpg\", \"png\"])\n",
        "\n",
        "if file is not None:\n",
        "    # Read the image file as bytes\n",
        "    img_bytes = file.read()\n",
        "\n",
        "    # Open the image using PIL\n",
        "    img = Image.open(io.BytesIO(img_bytes))\n",
        "\n",
        "    # Perform OCR using EasyOCR\n",
        "    val = ocr(img_bytes)\n",
        "\n",
        "    fetch =  st.button(\"Fetch Text\")\n",
        "\n",
        "    if 'fetch_data' not in st.session_state:\n",
        "      st.session_state.fetch_data = False\n",
        "\n",
        "\n",
        "    if fetch or st.session_state.fetch_data :\n",
        "      st.session_state.fetch_data = True\n",
        "\n",
        "      st.markdown(\"<p style='text-align: center; color: red;'>Edit Informations</p>\", unsafe_allow_html=True)\n",
        "      col1, col2 = st.columns(2)\n",
        "      name = col1.text_input(label = \"Name\", value = val[0])\n",
        "      designation = col2.text_input(label = \"Designation\", value = val[1])\n",
        "\n",
        "      Org_name = st.text_input(label = \"Organization Name\",value = val[3])\n",
        "\n",
        "      col3, col4, col5 = st.columns(3)\n",
        "      area = col3.text_input(label = \"Area\",value = val[4])\n",
        "      city = col4.text_input(label = \"City\",value = val[5])\n",
        "      state = col5.text_input(label = \"State\",value = val[6])\n",
        "\n",
        "      col6, col7 = st.columns(2)\n",
        "      pincode = col6.text_input(label = \"Pincode\",value = val[7])\n",
        "      c_num = col7.text_input(label = \"Contact Number\",value = val[2])\n",
        "\n",
        "      col8, col9 = st.columns(2)\n",
        "      mail_id = col8.text_input(label = \"Mail Id\",value = val[8])\n",
        "      web = col9.text_input(label = \"Website\",value = val[9])\n",
        "\n",
        "      st.markdown(\"<h6 style='text-align: center; color: red;'>Business Card Image</h6>\", unsafe_allow_html=True)\n",
        "      card_image = Image.open(io.BytesIO(val[-1]))\n",
        "      st.image(card_image)\n",
        "      final_tuple = (name, designation, Org_name, area, city, state, pincode, c_num, mail_id, web, val[-1])\n",
        "\n",
        "\n",
        "      if st.button(\"Upload data to database\", key = \"button1\"):\n",
        "        final_tuple = (name, designation, Org_name, area, city, state, pincode, c_num, mail_id, web, val[-1])\n",
        "        uploded_msg = update_info(final_tuple)\n",
        "        upload_url = \"https://assets9.lottiefiles.com/private_files/lf30_fh8ev8pf.json\"\n",
        "        lottie_result = load_lottieurl(upload_url)\n",
        "        st_lottie(\n",
        "          lottie_result,\n",
        "          speed = 1,\n",
        "          reverse = False,\n",
        "          loop = False,\n",
        "          quality = \"high\",\n",
        "          height = 300,\n",
        "          width = None,\n",
        "          key = None\n",
        "      )\n",
        "\n",
        "      if st.button(\"View all data\", key = \"button2\"):\n",
        "        fetch_data_all = \"https://assets7.lottiefiles.com/packages/lf20_ZVAR7L.json\"\n",
        "        lottie_result = load_lottieurl(fetch_data_all)\n",
        "        st_lottie(\n",
        "          lottie_result,\n",
        "          speed = 1,\n",
        "          reverse = False,\n",
        "          loop = False,\n",
        "          quality = \"low\",\n",
        "          height = 100,\n",
        "          width = None,\n",
        "          key = None\n",
        "        )\n",
        "        all_data = view_all_data()\n",
        "        st.dataframe(all_data)\n",
        "\n",
        "\n",
        "\n",
        "      name = st.text_input(label = \"Enter Name Here : \", value = \"\")\n",
        "\n",
        "      col20, col21 = st.columns(2)\n",
        "\n",
        "      if col20.button(\"View Data\") :\n",
        "        one_data = view_data(name)\n",
        "        fetch_data = \"https://assets7.lottiefiles.com/packages/lf20_ZVAR7L.json\"\n",
        "        lottie_result = load_lottieurl(fetch_data)\n",
        "        st_lottie(\n",
        "          lottie_result,\n",
        "          speed = 1,\n",
        "          reverse = False,\n",
        "          loop = False,\n",
        "          quality = \"low\",\n",
        "          height = 100,\n",
        "          width = None,\n",
        "          key = None\n",
        "        )\n",
        "        if type(one_data) != str:\n",
        "          st.dataframe(one_data)\n",
        "        elif type(one_data) == str:\n",
        "          st.success(one_data)\n",
        "\n",
        "      if col21.button(\"Delete Record\"):\n",
        "        st.markdown(\"**:red[CAUTION !!! ]**       :blue[This Data will be deleted permanently].\")\n",
        "        msg = delete_record(name)\n",
        "        delete_data = \"https://assets3.lottiefiles.com/packages/lf20_nux6g0kx.json\"\n",
        "        lottie_result = load_lottieurl(delete_data)\n",
        "        st_lottie(\n",
        "          lottie_result,\n",
        "          speed = 1,\n",
        "          reverse = False,\n",
        "          loop = False,\n",
        "          quality = \"low\",\n",
        "          height = 100,\n",
        "          width = None,\n",
        "          key = None\n",
        "        )  \n",
        "        st.success(msg)\n"
      ]
    },
    {
      "cell_type": "code",
      "execution_count": 38,
      "metadata": {
        "colab": {
          "base_uri": "https://localhost:8080/"
        },
        "id": "clqIHcSxpDkW",
        "outputId": "f2349df7-b719-4021-9e24-3aa73849db1a"
      },
      "outputs": [
        {
          "output_type": "stream",
          "name": "stdout",
          "text": [
            "https://bb44-35-204-163-36.ngrok.io\n"
          ]
        }
      ],
      "source": [
        "get_ipython().system_raw('./ngrok http 8501 &')\n",
        "! curl -s http://localhost:4040/api/tunnels | python3 -c \\\n",
        "    \"import sys, json; print(json.load(sys.stdin)['tunnels'][0]['public_url'])\""
      ]
    },
    {
      "cell_type": "code",
      "execution_count": null,
      "metadata": {
        "id": "v5PeqLb5pEmX"
      },
      "outputs": [],
      "source": [
        "!streamlit run /content/test.py"
      ]
    }
  ],
  "metadata": {
    "colab": {
      "provenance": [],
      "authorship_tag": "ABX9TyOZnhk2aug/ZlpnFv1C1l7b",
      "include_colab_link": true
    },
    "gpuClass": "standard",
    "kernelspec": {
      "display_name": "Python 3",
      "name": "python3"
    },
    "language_info": {
      "name": "python"
    }
  },
  "nbformat": 4,
  "nbformat_minor": 0
}